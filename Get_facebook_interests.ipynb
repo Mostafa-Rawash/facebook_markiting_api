{
  "nbformat": 4,
  "nbformat_minor": 0,
  "metadata": {
    "colab": {
      "name": "Get_facebook_interests.ipynb",
      "provenance": [],
      "collapsed_sections": [],
      "include_colab_link": true
    },
    "kernelspec": {
      "display_name": "Python 3",
      "name": "python3"
    }
  },
  "cells": [
    {
      "cell_type": "markdown",
      "metadata": {
        "id": "view-in-github",
        "colab_type": "text"
      },
      "source": [
        "<a href=\"https://colab.research.google.com/github/Mostafa-Rawash/facebook_markiting_api/blob/main/Get_facebook_interests.ipynb\" target=\"_parent\"><img src=\"https://colab.research.google.com/assets/colab-badge.svg\" alt=\"Open In Colab\"/></a>"
      ]
    },
    {
      "cell_type": "code",
      "metadata": {
        "id": "_SY-MStplPh2"
      },
      "source": [
        "import requests\n",
        "import json\n",
        "from urllib.parse import quote\n",
        "import threading  \n",
        "from pymongo import MongoClient"
      ],
      "execution_count": null,
      "outputs": []
    },
    {
      "cell_type": "code",
      "metadata": {
        "id": "SUlbXKxulPbW"
      },
      "source": [
        "# make unterest have one object for loop on it in he database is empty\n",
        "all_interest_list =[{\"id\": \"6003956183466\", \"name\": \"Listening to music\", \"type\": \"null\", \"path\": \"null\", \"description\": \"null\", \"source\": \"null\", \"partner\": \"null\", \"audience_size\": 3839630, \"country\": \"null\", \"country_access\": \"null\", \"topic\": \"null\"}]\n",
        "done_list = []\n",
        "\n",
        "\n",
        "# FAceBokk URL init.\n",
        "\n",
        "# select the type of request adinterestsuggestion => to get suggestion around ur word \n",
        "reqType = 'adinterestsuggestion' \n",
        "# this Acces Token will be Authorized for one month and to get new one will use this request:=>  \"https://graph.facebook.com/v9.0/oauth/access_token?grant_type=fb_exchange_token&client_id=<APP ID>&client_secret=<APP secret code>&fb_exchange_token=<short_Access-Token>\"\n",
        "# short_Access-Token come from :=> \"https://developers.facebook.com/tools/explorer/\"\n",
        "access_token = \"<Enter_YOUR_ACCESS_TOKEN_HERE>\"\n",
        "\n",
        "#  Mongo DB init.\n",
        "\n",
        "Mongo_userName= '<mongo user name>'\n",
        "Mongo_password = '<mongo user password>'\n",
        "client = MongoClient('<write here your mongo atlas connection link>')\n",
        "db = client.\"<the data base name>\"\n",
        "db = client.get_database(\"<the data base name>\")\n",
        "# db = client.get_database(\"interests\")\n",
        "interstdb = db.'<collection name>'"
      ],
      "execution_count": null,
      "outputs": []
    },
    {
      "cell_type": "code",
      "metadata": {
        "id": "KELP8b9o8AyI"
      },
      "source": [
        "# will read data from database to work in it\n",
        "# return 'all_interest_list' array that contain all intarsts as an object \n",
        "# retutn 'done_list' array that contain all intarsts name as a string\n",
        "def get_data():\n",
        "  global done_list\n",
        "  global all_interest_list \n",
        "  for item in interstdb.find():\n",
        "    del(item[\"_id\"])        # remove the \"_id\" that generted by deafult with mongoosDB and remove it make the comper between this data and new one \n",
        "    all_interest_list.append(item) \n",
        "    print(len(all_interest_list)) \n",
        "  for item in donedb.find():\n",
        "    # del(item[\"_id\"])        # remove the \"_id\" that generted by deafult with mongoosDB and remove it make the comper between this data and new one \n",
        "    done_list.append(item[\"name\"])   # item[\"data\"]   come as array \n",
        " "
      ],
      "execution_count": null,
      "outputs": []
    },
    {
      "cell_type": "code",
      "metadata": {
        "id": "sKTkqOTp_jga"
      },
      "source": [
        "# save the data in json file\n",
        "def save_json_file(data , file_name):\n",
        "  if len(all_interest_list) == 0 :\n",
        "     get_data()\n",
        "  with open(file_name, 'w') as fp:\n",
        "        json.dump(data,fp)\n"
      ],
      "execution_count": null,
      "outputs": []
    },
    {
      "cell_type": "code",
      "metadata": {
        "id": "jM8WJ7YG_kzQ"
      },
      "source": [
        "#  this function for delete repeated item in database\n",
        "def cleaning_collection(collection_name):  \n",
        "  collectionData = []\n",
        "  x = 0\n",
        "  for item in collection_name.find():\n",
        "      del(item[\"_id\"])\n",
        "      if item not in collectionData:\n",
        "        collectionData.append(item)\n",
        "  collection_name.delete_many({})\n",
        "  print(len(collectionData))\n",
        "  collection_name.insert_many(collectionData)  \n",
        " "
      ],
      "execution_count": null,
      "outputs": []
    },
    {
      "cell_type": "code",
      "metadata": {
        "id": "E4mzJ8g2_l-L"
      },
      "source": [
        "#   this function for append chunk_interests & chunk_done that come generate after 1000 request  \n",
        "def append(c_i , c_d):\n",
        "          if len(c_i) > 0:\n",
        "            interstdb.insert_many(c_i)\n",
        "            c_i = []\n",
        "          print(\" the c_i is added\")\n",
        "          if len(c_d) > 0:\n",
        "            donedb.insert_many(c_d)            \n",
        "            c_d= []\n",
        "          print(\" the c_d is added\")\n",
        "          print(\"END\")\n"
      ],
      "execution_count": null,
      "outputs": []
    },
    {
      "cell_type": "code",
      "metadata": {
        "id": "4wlInf1n_nUd"
      },
      "source": [
        "# getting facebook API interests using  \n",
        "#  'access_token' and 'reqType' is a global var.\n",
        "# interest should to be an string to convert into array \n",
        "def facebook_api(access_token, interest, reqType):\n",
        "  working_list = [] \n",
        "  working_list.append(item[\"name\"])\n",
        "  interests_list_url = quote(working_list.__str__())\n",
        "  URL = \"https://graph.facebook.com/v9.0/search?access_token={}&interest_list={}&pretty=0&type={}&limit=100\".format(access_token, interests_list_url, reqType)\n",
        "  return requests.get(URL)  \n"
      ],
      "execution_count": null,
      "outputs": []
    },
    {
      "cell_type": "code",
      "metadata": {
        "id": "Lw6jR7DLIggt"
      },
      "source": [
        "def main():\n",
        "    chunk_intersts = []\n",
        "    chunk_done = []\n",
        "    count = int(0)\n",
        "    for item in all_interest_list:\n",
        "        chunk_intersts = []\n",
        "        chunk_done = []\n",
        "        if count < 20001: # to save the data evry 10000 loop \n",
        "        # ///////////////////// prolem ( the element that com after 1000 time's don't make request in it   )\n",
        "            if item[\"name\"] not in done_list: # to know in the name of interest that come from \"all_interest_list\" make request or  not if yes   add  count +1 \n",
        "                response = facebook_api(access_token, working_list_url, reqType)\n",
        "                if response.status_code == 200:\n",
        "                    done_list.append(item[\"name\"])\n",
        "                    chunk_done.append({'name':item[\"name\"]})\n",
        "                    # print(len(done_list) , ' done_list')\n",
        "                    data = response.json()[\"data\"]\n",
        "                    for interest in data:\n",
        "                        if interest not in all_interest_list:\n",
        "                            all_interest_list.append(interest)\n",
        "                            chunk_intersts.append(interest)\n",
        "                else:\n",
        "                    print('error in response  => \\n ' ,' status_code =' ,response.status_code , \"   \" , response , \"   \" , URL)\n",
        "                    break\n",
        "            count += 1\n",
        "        else:\n",
        "          print(\"start\")\n",
        "          print(len(done_list) ,\"   from   \" , len(all_interest_list))\n",
        "          threading.Thread(target=append,args=(chunk_intersts,chunk_done,)).start()\n",
        "          count = 0\n",
        "    print(len(done_list) ,\"   from   \" , len(all_interest_list))\n",
        "    print(\"start\")\n",
        "    threading.Thread(target=append,args=(chunk_intersts,chunk_done,)).start()\n",
        " "
      ],
      "execution_count": null,
      "outputs": []
    },
    {
      "cell_type": "code",
      "metadata": {
        "id": "GDMIAF0WTtAy"
      },
      "source": [
        "get_data()\n",
        "print(\"data is ready\")\n"
      ],
      "execution_count": null,
      "outputs": []
    },
    {
      "cell_type": "code",
      "metadata": {
        "id": "7Wx3NtAEJKgi"
      },
      "source": [
        "main()"
      ],
      "execution_count": null,
      "outputs": []
    },
    {
      "cell_type": "code",
      "metadata": {
        "id": "vRoowskusCXa"
      },
      "source": [
        "save_json_file(all_interest_list , '/content/drive/MyDrive/ensoulify/Facebook Bert/facefook_interests.json')"
      ],
      "execution_count": null,
      "outputs": []
    },
    {
      "cell_type": "code",
      "metadata": {
        "colab": {
          "base_uri": "https://localhost:8080/"
        },
        "id": "4B1gXWWE_xKC",
        "outputId": "b4e6fa96-ff98-4189-9538-5956fca247e8"
      },
      "source": [
        "from google.colab import drive\n",
        "drive.mount('/content/drive')"
      ],
      "execution_count": null,
      "outputs": [
        {
          "output_type": "stream",
          "text": [
            "Mounted at /content/drive\n"
          ],
          "name": "stdout"
        }
      ]
    },
    {
      "cell_type": "code",
      "metadata": {
        "id": "0iI1Poz58Q6b"
      },
      "source": [
        "import pandas as pd \n",
        "data = pd.DataFrame.from_dict( all_interest_list )\n",
        "data = data.drop_duplicates(subset=['id', 'name'], keep='last')  \n",
        "save_json_file(data.to_dict() , '/content/drive/MyDrive/ensoulify/Facebook Bert/facebook_interests.json')\n"
      ],
      "execution_count": null,
      "outputs": []
    }
  ]
}