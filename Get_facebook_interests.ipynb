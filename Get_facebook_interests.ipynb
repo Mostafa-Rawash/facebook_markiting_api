{
  "nbformat": 4,
  "nbformat_minor": 0,
  "metadata": {
    "colab": {
      "name": "Get_facebook_interests.ipynb",
      "provenance": [],
      "collapsed_sections": [],
      "include_colab_link": true
    },
    "kernelspec": {
      "display_name": "Python 3",
      "name": "python3"
    }
  },
  "cells": [
    {
      "cell_type": "markdown",
      "metadata": {
        "id": "view-in-github",
        "colab_type": "text"
      },
      "source": [
        "<a href=\"https://colab.research.google.com/github/Mostafa-Rawash/facebook_markiting_api/blob/main/Get_facebook_interests.ipynb\" target=\"_parent\"><img src=\"https://colab.research.google.com/assets/colab-badge.svg\" alt=\"Open In Colab\"/></a>"
      ]
    },
    {
      "cell_type": "code",
      "metadata": {
        "id": "_SY-MStplPh2"
      },
      "source": [
        "import requests\n",
        "import json\n",
        "from urllib.parse import quote\n",
        "import threading  \n",
        "from pymongo import MongoClient"
      ],
      "execution_count": null,
      "outputs": []
    },
    {
      "cell_type": "code",
      "metadata": {
        "id": "SUlbXKxulPbW"
      },
      "source": [
        "# make unterest have one object for loop on it in he database is empty\n",
        "all_interest_list =[{\"id\": \"6003956183466\", \"name\": \"Listening to music\", \"type\": \"null\", \"path\": \"null\", \"description\": \"null\", \"source\": \"null\", \"partner\": \"null\", \"audience_size\": 3839630, \"country\": \"null\", \"country_access\": \"null\", \"topic\": \"null\"}]\n",
        "done_list = []\n",
        "\n",
        "\n",
        "# FAceBokk URL init.\n",
        "\n",
        "# select the type of request adinterestsuggestion => to get suggestion around ur word \n",
        "reqType = 'adinterestsuggestion' \n",
        "# this Acces Token will be Authorized for one month and to get new one will use this request:=>  \"https://graph.facebook.com/v9.0/oauth/access_token?grant_type=fb_exchange_token&client_id=<APP ID>&client_secret=<APP secret code>&fb_exchange_token=<short_Access-Token>\"\n",
        "# short_Access-Token come from :=> \"https://developers.facebook.com/tools/explorer/\"\n",
        "access_token = \"<Enter_YOUR_ACCESS_TOKEN_HERE>\"\n",
        "\n",
        "#  Mongo DB init.\n",
        "\n",
        "Mongo_userName= '<mongo user name>'\n",
        "Mongo_password = '<mongo user password>'\n",
        "client = MongoClient('<write here your mongo atlas connection link>')\n",
        "db = client.\"<the data base name>\"\n",
        "db = client.get_database(\"<the data base name>\")\n",
        "# db = client.get_database(\"interests\")\n",
        "interstdb = db.'<collection name>'"
      ],
      "execution_count": null,
      "outputs": []
    },
    {
      "cell_type": "code",
      "metadata": {
        "id": "KELP8b9o8AyI"
      },
      "source": [
        "# will read data from database to work in it\n",
        "# return 'all_interest_list' array that contain all intarsts as an object \n",
        "# retutn 'done_list' array that contain all intarsts name as a string\n",
        "def get_data():\n",
        "  global done_list\n",
        "  global all_interest_list \n",
        "  for item in interstdb.find():\n",
        "    del(item[\"_id\"])        # remove the \"_id\" that generted by deafult with mongoosDB and remove it make the comper between this data and new one \n",
        "    all_interest_list.append(item) \n",
        "    print(len(all_interest_list)) \n",
        "  for item in donedb.find():\n",
        "    # del(item[\"_id\"])        # remove the \"_id\" that generted by deafult with mongoosDB and remove it make the comper between this data and new one \n",
        "    done_list.append(item[\"name\"])   # item[\"data\"]   come as array \n",
        " "
      ],
      "execution_count": null,
      "outputs": []
    },
    {
      "cell_type": "code",
      "metadata": {
        "id": "sKTkqOTp_jga"
      },
      "source": [
        "# save the data in json file\n",
        "def save_json_file(data , file_name):\n",
        "  if len(all_interest_list) == 0 :\n",
        "     get_data()\n",
        "  with open(file_name, 'w') as fp:\n",
        "        json.dump(data,fp)\n"
      ],
      "execution_count": null,
      "outputs": []
    },
    {
      "cell_type": "code",
      "metadata": {
        "id": "jM8WJ7YG_kzQ"
      },
      "source": [
        "#  this function for delete repeated item in database\n",
        "def cleaning_collection(collection_name):  \n",
        "  collectionData = []\n",
        "  x = 0\n",
        "  for item in collection_name.find():\n",
        "      del(item[\"_id\"])\n",
        "      if item not in collectionData:\n",
        "        collectionData.append(item)\n",
        "  collection_name.delete_many({})\n",
        "  print(len(collectionData))\n",
        "  collection_name.insert_many(collectionData)  \n",
        " "
      ],
      "execution_count": null,
      "outputs": []
    },
    {
      "cell_type": "code",
      "metadata": {
        "id": "E4mzJ8g2_l-L"
      },
      "source": [
        "#   this function for append chunk_interests & chunk_done that come generate after 1000 request  \n",
        "def append(c_i , c_d):\n",
        "          if len(c_i) > 0:\n",
        "            interstdb.insert_many(c_i)\n",
        "            c_i = []\n",
        "          print(\" the c_i is added\")\n",
        "          if len(c_d) > 0:\n",
        "            donedb.insert_many(c_d)            \n",
        "            c_d= []\n",
        "          print(\" the c_d is added\")\n",
        "          print(\"END\")\n"
      ],
      "execution_count": null,
      "outputs": []
    },
    {
      "cell_type": "code",
      "metadata": {
        "id": "4wlInf1n_nUd"
      },
      "source": [
        "# getting facebook API interests using  \n",
        "#  'access_token' and 'reqType' is a global var.\n",
        "# interest should to be an string to convert into array \n",
        "def facebook_api(access_token, interest, reqType):\n",
        "  working_list = [] \n",
        "  working_list.append(item[\"name\"])\n",
        "  interests_list_url = quote(working_list.__str__())\n",
        "  URL = \"https://graph.facebook.com/v9.0/search?access_token={}&interest_list={}&pretty=0&type={}&limit=100\".format(access_token, interests_list_url, reqType)\n",
        "  return requests.get(URL)  \n"
      ],
      "execution_count": null,
      "outputs": []
    },
    {
      "cell_type": "code",
      "metadata": {
        "id": "Lw6jR7DLIggt"
      },
      "source": [
        "def main():\n",
        "    chunk_intersts = []\n",
        "    chunk_done = []\n",
        "    count = int(0)\n",
        "    for item in all_interest_list:\n",
        "        chunk_intersts = []\n",
        "        chunk_done = []\n",
        "        if count < 20001: # to save the data evry 10000 loop \n",
        "        # ///////////////////// prolem ( the element that com after 1000 time's don't make request in it   )\n",
        "            if item[\"name\"] not in done_list: # to know in the name of interest that come from \"all_interest_list\" make request or  not if yes   add  count +1 \n",
        "                response = facebook_api(access_token, working_list_url, reqType)\n",
        "                if response.status_code == 200:\n",
        "                    done_list.append(item[\"name\"])\n",
        "                    chunk_done.append({'name':item[\"name\"]})\n",
        "                    # print(len(done_list) , ' done_list')\n",
        "                    data = response.json()[\"data\"]\n",
        "                    for interest in data:\n",
        "                        if interest not in all_interest_list:\n",
        "                            all_interest_list.append(interest)\n",
        "                            chunk_intersts.append(interest)\n",
        "                else:\n",
        "                    print('error in response  => \\n ' ,' status_code =' ,response.status_code , \"   \" , response , \"   \" , URL)\n",
        "                    break\n",
        "            count += 1\n",
        "        else:\n",
        "          print(\"start\")\n",
        "          print(len(done_list) ,\"   from   \" , len(all_interest_list))\n",
        "          threading.Thread(target=append,args=(chunk_intersts,chunk_done,)).start()\n",
        "          count = 0\n",
        "    print(len(done_list) ,\"   from   \" , len(all_interest_list))\n",
        "    print(\"start\")\n",
        "    threading.Thread(target=append,args=(chunk_intersts,chunk_done,)).start()\n",
        " "
      ],
      "execution_count": null,
      "outputs": []
    },
    {
      "cell_type": "code",
      "metadata": {
        "id": "GDMIAF0WTtAy"
      },
      "source": [
        "get_data()\n",
        "print(\"data is ready\")\n"
      ],
      "execution_count": null,
      "outputs": []
    },
    {
      "cell_type": "code",
      "metadata": {
        "id": "7Wx3NtAEJKgi"
      },
      "source": [
        "main()"
      ],
      "execution_count": null,
      "outputs": []
    },
    {
      "cell_type": "code",
      "metadata": {
        "id": "vRoowskusCXa"
      },
      "source": [
        "save_json_file(all_interest_list , '/content/drive/MyDrive/ensoulify/Facebook Bert/facefook_interests.json')"
      ],
      "execution_count": null,
      "outputs": []
    },
    {
      "cell_type": "code",
      "metadata": {
        "id": "QoKPubM19Pxb"
      },
      "source": [
        ""
      ],
      "execution_count": null,
      "outputs": []
    },
    {
      "cell_type": "code",
      "metadata": {
        "id": "0iI1Poz58Q6b"
      },
      "source": [
        "import pandas as pd \n",
        "data = pd.DataFrame.from_dict( all_interest_list )\n",
        "data = data.drop_duplicates(subset=['id', 'name'], keep='last')  \n",
        "save_json_file(data.to_dict() , '/content/drive/MyDrive/ensoulify/Facebook Bert/facebook_interests.json')\n"
      ],
      "execution_count": null,
      "outputs": []
    },
    {
      "cell_type": "code",
      "metadata": {
        "colab": {
          "base_uri": "https://localhost:8080/"
        },
        "id": "4B1gXWWE_xKC",
        "outputId": "b4e6fa96-ff98-4189-9538-5956fca247e8"
      },
      "source": [
        "from google.colab import drive\n",
        "drive.mount('/content/drive')"
      ],
      "execution_count": null,
      "outputs": [
        {
          "output_type": "stream",
          "text": [
            "Mounted at /content/drive\n"
          ],
          "name": "stdout"
        }
      ]
    },
    {
      "cell_type": "code",
      "metadata": {
        "id": "8TfqCuVG8of9"
      },
      "source": [
        ""
      ],
      "execution_count": null,
      "outputs": []
    },
    {
      "cell_type": "code",
      "metadata": {
        "id": "YOQ9RkymTJzI"
      },
      "source": [
        "# done_list = []\n",
        "# def main():\n",
        "#     chunk_intersts = []\n",
        "#     chunk_done = []\n",
        "#     count = int(0)\n",
        "#     for i in range(len(all_interest_list)):\n",
        "#         chunk_intersts = []\n",
        "#         chunk_done = []\n",
        "#         if count < 20001: # to save the data evry 10000 loop \n",
        "#         # ///////////////////// prolem ( the element that com after 1000 time's don't make request in it   )\n",
        "#             if all_interest_list[i][\"name\"] not in done_list: # to know in the name of interest that come from \"all_interest_list\" make request or  not if yes   add  count +1 \n",
        "#                 working_list = [] \n",
        "#                 working_list.append(all_interest_list[i][\"name\"])\n",
        "#                 working_list.append(all_interest_list[i+1][\"name\"])\n",
        "#                 print(working_list)\n",
        "#                 working_list_url = quote(working_list.__str__())\n",
        "#                 URL = \"https://graph.facebook.com/v9.0/search?access_token={}&interest_list={}&pretty=0&type={}&limit=100\".format(\n",
        "#                     access_token, working_list_url, reqType)\n",
        "#                 response = requests.get(URL)\n",
        "#                 if response.status_code == 200:\n",
        "#                     done_list.append(all_interest_list[i][\"name\"])\n",
        "#                     chunk_done.append({'name':all_interest_list[i][\"name\"]})\n",
        "#                     # print(len(done_list) , ' done_list')\n",
        "#                     data = response.json()[\"data\"]\n",
        "#                     for interest in data:\n",
        "#                         if interest not in all_interest_list:\n",
        "#                             all_interest_list.append(interest)\n",
        "#                             chunk_intersts.append(interest)\n",
        "#                 else:\n",
        "#                     print('error in response  => \\n ' ,' status_code =' ,response.status_code , \"   \" , response , \"   \" , URL)\n",
        "#                     break\n",
        "#             count += 1\n",
        "#         else:\n",
        "#           print(\"start\")\n",
        "#           print(len(done_list) ,\"   from   \" , len(all_interest_list))\n",
        "#           threading.Thread(target=append,args=(chunk_intersts,chunk_done,)).start()\n",
        "#           count = 0\n",
        "#     print(len(done_list) ,\"   from   \" , len(all_interest_list))\n",
        "#     print(\"start\")\n",
        "#     threading.Thread(target=append,args=(chunk_intersts,chunk_done,)).start()\n",
        " "
      ],
      "execution_count": null,
      "outputs": []
    },
    {
      "cell_type": "code",
      "metadata": {
        "colab": {
          "base_uri": "https://localhost:8080/",
          "height": 1000
        },
        "id": "9O8aLcw_9Im0",
        "outputId": "0a8a9d1a-655b-450e-8f5d-198a34f36319"
      },
      "source": [
        "result = []\n",
        "for dic in all_interest_list:\n",
        "    if  dic not in result:\n",
        "        print(len(result))\n",
        "        result.append(dic)\n"
      ],
      "execution_count": null,
      "outputs": [
        {
          "output_type": "stream",
          "text": [
            "60149\n",
            "60150\n",
            "60151\n",
            "60152\n",
            "60153\n",
            "60154\n",
            "60155\n",
            "60156\n",
            "60157\n",
            "60158\n",
            "60159\n",
            "60160\n",
            "60161\n",
            "60162\n",
            "60163\n",
            "60164\n",
            "60165\n",
            "60166\n",
            "60167\n",
            "60168\n",
            "60169\n",
            "60170\n",
            "60171\n",
            "60172\n",
            "60173\n",
            "60174\n",
            "60175\n",
            "60176\n",
            "60177\n",
            "60178\n",
            "60179\n",
            "60180\n",
            "60181\n",
            "60182\n",
            "60183\n",
            "60184\n",
            "60185\n",
            "60186\n",
            "60187\n",
            "60188\n",
            "60189\n",
            "60190\n",
            "60191\n",
            "60192\n",
            "60193\n",
            "60194\n",
            "60195\n",
            "60196\n",
            "60197\n",
            "60198\n",
            "60199\n",
            "60200\n",
            "60201\n",
            "60202\n",
            "60203\n",
            "60204\n",
            "60205\n",
            "60206\n",
            "60207\n",
            "60208\n",
            "60209\n",
            "60210\n",
            "60211\n",
            "60212\n",
            "60213\n",
            "60214\n",
            "60215\n",
            "60216\n",
            "60217\n",
            "60218\n",
            "60219\n",
            "60220\n",
            "60221\n",
            "60222\n",
            "60223\n",
            "60224\n",
            "60225\n",
            "60226\n",
            "60227\n",
            "60228\n",
            "60229\n",
            "60230\n",
            "60231\n",
            "60232\n",
            "60233\n",
            "60234\n",
            "60235\n",
            "60236\n",
            "60237\n",
            "60238\n",
            "60239\n",
            "60240\n",
            "60241\n",
            "60242\n",
            "60243\n",
            "60244\n",
            "60245\n",
            "60246\n",
            "60247\n",
            "60248\n",
            "60249\n",
            "60250\n",
            "60251\n",
            "60252\n",
            "60253\n",
            "60254\n",
            "60255\n",
            "60256\n",
            "60257\n",
            "60258\n",
            "60259\n",
            "60260\n",
            "60261\n",
            "60262\n",
            "60263\n",
            "60264\n",
            "60265\n",
            "60266\n",
            "60267\n",
            "60268\n",
            "60269\n",
            "60270\n",
            "60271\n",
            "60272\n",
            "60273\n",
            "60274\n",
            "60275\n",
            "60276\n",
            "60277\n",
            "60278\n",
            "60279\n",
            "60280\n",
            "60281\n",
            "60282\n",
            "60283\n",
            "60284\n",
            "60285\n",
            "60286\n",
            "60287\n",
            "60288\n",
            "60289\n",
            "60290\n",
            "60291\n",
            "60292\n",
            "60293\n",
            "60294\n",
            "60295\n",
            "60296\n",
            "60297\n",
            "60298\n",
            "60299\n",
            "60300\n",
            "60301\n",
            "60302\n",
            "60303\n",
            "60304\n",
            "60305\n",
            "60306\n",
            "60307\n",
            "60308\n",
            "60309\n",
            "60310\n",
            "60311\n",
            "60312\n",
            "60313\n",
            "60314\n",
            "60315\n",
            "60316\n",
            "60317\n",
            "60318\n",
            "60319\n",
            "60320\n",
            "60321\n",
            "60322\n",
            "60323\n",
            "60324\n",
            "60325\n",
            "60326\n",
            "60327\n",
            "60328\n",
            "60329\n",
            "60330\n",
            "60331\n",
            "60332\n",
            "60333\n",
            "60334\n",
            "60335\n",
            "60336\n",
            "60337\n",
            "60338\n",
            "60339\n",
            "60340\n",
            "60341\n",
            "60342\n",
            "60343\n"
          ],
          "name": "stdout"
        },
        {
          "output_type": "error",
          "ename": "KeyboardInterrupt",
          "evalue": "ignored",
          "traceback": [
            "\u001b[0;31m---------------------------------------------------------------------------\u001b[0m",
            "\u001b[0;31mKeyboardInterrupt\u001b[0m                         Traceback (most recent call last)",
            "\u001b[0;32m<ipython-input-20-4b0e958f3c91>\u001b[0m in \u001b[0;36m<module>\u001b[0;34m()\u001b[0m\n\u001b[1;32m      1\u001b[0m \u001b[0mresult\u001b[0m \u001b[0;34m=\u001b[0m \u001b[0;34m[\u001b[0m\u001b[0;34m]\u001b[0m\u001b[0;34m\u001b[0m\u001b[0;34m\u001b[0m\u001b[0m\n\u001b[1;32m      2\u001b[0m \u001b[0;32mfor\u001b[0m \u001b[0mdic\u001b[0m \u001b[0;32min\u001b[0m \u001b[0mall_interest_list\u001b[0m\u001b[0;34m:\u001b[0m\u001b[0;34m\u001b[0m\u001b[0;34m\u001b[0m\u001b[0m\n\u001b[0;32m----> 3\u001b[0;31m     \u001b[0;32mif\u001b[0m  \u001b[0mdic\u001b[0m \u001b[0;32mnot\u001b[0m \u001b[0;32min\u001b[0m \u001b[0mresult\u001b[0m\u001b[0;34m:\u001b[0m\u001b[0;34m\u001b[0m\u001b[0;34m\u001b[0m\u001b[0m\n\u001b[0m\u001b[1;32m      4\u001b[0m         \u001b[0mprint\u001b[0m\u001b[0;34m(\u001b[0m\u001b[0mlen\u001b[0m\u001b[0;34m(\u001b[0m\u001b[0mresult\u001b[0m\u001b[0;34m)\u001b[0m\u001b[0;34m)\u001b[0m\u001b[0;34m\u001b[0m\u001b[0;34m\u001b[0m\u001b[0m\n\u001b[1;32m      5\u001b[0m         \u001b[0mresult\u001b[0m\u001b[0;34m.\u001b[0m\u001b[0mappend\u001b[0m\u001b[0;34m(\u001b[0m\u001b[0mdic\u001b[0m\u001b[0;34m)\u001b[0m\u001b[0;34m\u001b[0m\u001b[0;34m\u001b[0m\u001b[0m\n",
            "\u001b[0;31mKeyboardInterrupt\u001b[0m: "
          ]
        }
      ]
    },
    {
      "cell_type": "code",
      "metadata": {
        "id": "d6pGa3EF9JSi"
      },
      "source": [
        "result"
      ],
      "execution_count": null,
      "outputs": []
    },
    {
      "cell_type": "code",
      "metadata": {
        "id": "jwY37cz096Mc"
      },
      "source": [
        ""
      ],
      "execution_count": null,
      "outputs": []
    }
  ]
}