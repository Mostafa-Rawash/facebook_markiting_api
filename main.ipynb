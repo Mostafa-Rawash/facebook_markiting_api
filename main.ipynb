{
  "nbformat": 4,
  "nbformat_minor": 0,
  "metadata": {
    "colab": {
      "name": "Get_facebook_interests.ipynb",
      "provenance": [],
      "collapsed_sections": [],
      "authorship_tag": "ABX9TyNmYqgg86smlypH3xKEcpSH",
      "include_colab_link": true
    },
    "kernelspec": {
      "display_name": "Python 3",
      "name": "python3"
    }
  },
  "cells": [
    {
      "cell_type": "markdown",
      "metadata": {
        "id": "view-in-github",
        "colab_type": "text"
      },
      "source": [
        "<a href=\"https://colab.research.google.com/github/Mostafa-Rawash/get_facebook_interests/blob/main/main.ipynb\" target=\"_parent\"><img src=\"https://colab.research.google.com/assets/colab-badge.svg\" alt=\"Open In Colab\"/></a>"
      ]
    },
    {
      "cell_type": "code",
      "metadata": {
        "id": "_SY-MStplPh2"
      },
      "source": [
        "import requests\r\n",
        "import json\r\n",
        "from urllib.parse import quote\r\n",
        "import threading  \r\n",
        "from pymongo import MongoClient"
      ],
      "execution_count": 44,
      "outputs": []
    },
    {
      "cell_type": "code",
      "metadata": {
        "id": "SUlbXKxulPbW"
      },
      "source": [
        "# make unterest have one object for loop on it in he database is empty\r\n",
        "all_interest_list =[{\"id\": \"6003956183466\", \"name\": \"Listening to music\", \"type\": \"null\", \"path\": \"null\", \"description\": \"null\", \"source\": \"null\", \"partner\": \"null\", \"audience_size\": 3839630, \"country\": \"null\", \"country_access\": \"null\", \"topic\": \"null\"}]\r\n",
        "done_list = []\r\n",
        "\r\n",
        "\r\n",
        "# FAceBokk URL init.\r\n",
        "\r\n",
        "# select the type of request adinterestsuggestion => to get suggestion around ur word \r\n",
        "reqType = 'adinterestsuggestion' \r\n",
        "# this Acces Token will be Authorized for one month and to get new one will use this request:=>  \"https://graph.facebook.com/v9.0/oauth/access_token?grant_type=fb_exchange_token&client_id=<APP ID>&client_secret=<APP secret code>&fb_exchange_token=<short_Access-Token>\"\r\n",
        "# short_Access-Token come from :=> \"https://developers.facebook.com/tools/explorer/\"\r\n",
        "access_token = \"EAADKRQU7abABAEDq1OHRWeocZCY1PKYA0C0fuBtHUiZA7d3Ln6uqjoyohUDFNKGiZCPu0KQivzbsfncxWe4HZBTggZAME62fYkfKMp1npKZBixG98WpeBbFZBbyrNDKXn6IBTW15dYOKE5ZCMabebZCDLCvdaqCvsRi6N5WqmfTURqwZDZD\"\r\n",
        "\r\n",
        "#  Mongo DB init.\r\n",
        "\r\n",
        "Mongo_userName= '<mongo user name>'\r\n",
        "Mongo_password = '<mongo user password>'\r\n",
        "client = MongoClient('<write here your mongo atlas connection link>')\r\n",
        "db = client.\"<the data base name>\"\r\n",
        "db = client.get_database(\"<the data base name>\")\r\n",
        "# db = client.get_database(\"interests\")\r\n",
        "interstdb = db.'<collection name>'"
      ],
      "execution_count": 50,
      "outputs": []
    },
    {
      "cell_type": "code",
      "metadata": {
        "id": "Lw6jR7DLIggt"
      },
      "source": [
        "# will red data from database to work in it\n",
        "def get_data():\n",
        "  global done_list\n",
        "  global all_interest_list \n",
        "  for item in interstdb.find():\n",
        "    del(item[\"_id\"])        # remove the \"_id\" that generted by deafult with mongoosDB and remove it make the comper between this data and new one \n",
        "    all_interest_list.append(item) \n",
        "    print(len(all_interest_list)) \n",
        "  for item in donedb.find():\n",
        "    # del(item[\"_id\"])        # remove the \"_id\" that generted by deafult with mongoosDB and remove it make the comper between this data and new one \n",
        "    done_list.append(item[\"name\"])   # item[\"data\"]   come as array \n",
        " \n",
        " \n",
        "\n",
        "#  this function for delete repeated item in database\n",
        "def cleaning_collection(collection_name):  \n",
        "  collectionData = []\n",
        "  x = 0\n",
        "  for item in collection_name.find():\n",
        "      del(item[\"_id\"])\n",
        "      if item not in collectionData:\n",
        "        collectionData.append(item)\n",
        "  collection_name.delete_many({})\n",
        "  print(len(collectionData))\n",
        "  collection_name.insert_many(collectionData)  \n",
        " \n",
        " \n",
        "#   this function for append chunk_interests & chunk_done that come generate after 1000 request  \n",
        "def append(c_i , c_d):\n",
        "          if len(c_i) > 0:\n",
        "            interstdb.insert_many(c_i)\n",
        "            c_i = []\n",
        "          print(\" the c_i is added\")\n",
        "          if len(c_d) > 0:\n",
        "            donedb.insert_many(c_d)            \n",
        "            c_d= []\n",
        "          print(\" the c_d is added\")\n",
        "          print(\"END\")\n",
        " \n",
        " \n",
        "def main():\n",
        "    chunk_intersts = []\n",
        "    chunk_done = []\n",
        "    count = int(0)\n",
        "    for item in all_interest_list:\n",
        "        if count < 1000: # to save the data evry 10000 loop \n",
        "            if item[\"name\"] not in done_list: # to know in the name of interest that come from \"all_interest_list\" make request or  not if yes   add  count +1 \n",
        "                working_list = [] \n",
        "                working_list.append(item[\"name\"])\n",
        "                working_list_url = quote(working_list.__str__())\n",
        "                URL = \"https://graph.facebook.com/v9.0/search?access_token={}&interest_list={}&pretty=0&type={}&limit=100\".format(\n",
        "                    access_token, working_list_url, reqType)\n",
        "                response = requests.get(URL)\n",
        "                if response.status_code == 200:\n",
        "                    done_list.append(item[\"name\"])\n",
        "                    chunk_done.append({'name':item[\"name\"]})\n",
        "                    # print(len(done_list) , ' done_list')\n",
        "                    data = response.json()[\"data\"]\n",
        "                    for interest in data:\n",
        "                        if interest not in all_interest_list:\n",
        "                            all_interest_list.append(interest)\n",
        "                            chunk_intersts.append(interest)\n",
        "                else:\n",
        "                    print('error in response  => \\n ' ,' status_code =' ,response.status_code , \"   \" , response , \"   \" , URL)\n",
        "                    break\n",
        "            count += 1\n",
        "        else:\n",
        "          print(\"start\")\n",
        "          print(len(done_list) ,\"   from   \" , len(all_interest_list))\n",
        "          threading.Thread(target=append,args=(chunk_intersts,chunk_done,)).start()\n",
        "          chunk_intersts = []\n",
        "          chunk_done = []\n",
        "          count = 0\n",
        "    print(len(done_list) ,\"   from   \" , len(all_interest_list))\n",
        "    print(\"start\")\n",
        "    threading.Thread(target=append,args=(chunk_intersts,chunk_done,)).start()\n",
        " "
      ],
      "execution_count": 46,
      "outputs": []
    },
    {
      "cell_type": "code",
      "metadata": {
        "id": "GDMIAF0WTtAy",
        "colab": {
          "base_uri": "https://localhost:8080/"
        },
        "outputId": "2a30dad5-4693-484e-f2bb-1a2d2d3b316e"
      },
      "source": [
        "get_data()\r\n",
        "print(\"data is ready\")\r\n",
        "print(f'Done {len(done_list)}  from  {len(all_interest_list)} ')"
      ],
      "execution_count": 51,
      "outputs": [
        {
          "output_type": "stream",
          "text": [
            "data is ready\n",
            "Done 82949  from  82950 \n"
          ],
          "name": "stdout"
        }
      ]
    },
    {
      "cell_type": "code",
      "metadata": {
        "id": "e933XK1lhmmC"
      },
      "source": [
        "# to save the output in file to use it later\r\n",
        "def save_csv():\r\n",
        "      with open(\"./output_data.csv\",\"w\") as out_file:\r\n",
        "          out_file.write(json.dumps(done_list))"
      ],
      "execution_count": 39,
      "outputs": []
    },
    {
      "cell_type": "code",
      "metadata": {
        "id": "7Wx3NtAEJKgi"
      },
      "source": [
        "main()"
      ],
      "execution_count": null,
      "outputs": []
    },
    {
      "cell_type": "code",
      "metadata": {
        "colab": {
          "base_uri": "https://localhost:8080/"
        },
        "id": "9a7tZTGJjDV-",
        "outputId": "d40b2f80-4a42-4bcf-dff5-3498cf2da5c6"
      },
      "source": [
        "cleaning_collection(interstdb)"
      ],
      "execution_count": 48,
      "outputs": [
        {
          "output_type": "stream",
          "text": [
            "82949\n"
          ],
          "name": "stdout"
        }
      ]
    },
    {
      "cell_type": "code",
      "metadata": {
        "colab": {
          "base_uri": "https://localhost:8080/"
        },
        "id": "XUBIWLaejFfF",
        "outputId": "dac527b1-8473-4b59-a6e9-f7aa6e108aab"
      },
      "source": [
        "cleaning_collection(donedb)"
      ],
      "execution_count": 49,
      "outputs": [
        {
          "output_type": "stream",
          "text": [
            "82949\n"
          ],
          "name": "stdout"
        }
      ]
    }
  ]
}
